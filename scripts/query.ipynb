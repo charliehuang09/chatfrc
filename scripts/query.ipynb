{
 "cells": [
  {
   "cell_type": "code",
   "execution_count": null,
   "metadata": {},
   "outputs": [],
   "source": [
    "import numpy as np\n",
    "\n",
    "from qdrant_client import QdrantClient\n",
    "\n",
    "from openai import OpenAI\n",
    "\n",
    "client = QdrantClient(\"0.0.0.0\", port=6333)\n",
    "openai_client = OpenAI()\n",
    "\n",
    "model = \"text-embedding-ada-002\"\n",
    "prompt = \"How do I contribute to FRC?\"\n",
    "collection_name = \"parent_document\"\n",
    "embeddings = openai_client.embeddings.create(\n",
    "    input = prompt,\n",
    "    model=model\n",
    ")\n",
    "tmp = embeddings.data[0].embedding\n",
    "print(tmp, type(tmp))\n",
    "results = client.search(\n",
    "    collection_name=collection_name,\n",
    "    query_vector=embeddings.data[0].embedding,\n",
    "    limit=3,\n",
    ")   \n",
    "print(results)\n",
    "\n"
   ]
  }
 ],
 "metadata": {
  "kernelspec": {
   "display_name": "OpenAI",
   "language": "python",
   "name": "python3"
  },
  "language_info": {
   "name": "python",
   "version": "3.10.13"
  }
 },
 "nbformat": 4,
 "nbformat_minor": 2
}
